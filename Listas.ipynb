{
  "nbformat": 4,
  "nbformat_minor": 0,
  "metadata": {
    "colab": {
      "provenance": [],
      "authorship_tag": "ABX9TyMFeXsEwsvT6U/nxsWZdF/a",
      "include_colab_link": true
    },
    "kernelspec": {
      "name": "python3",
      "display_name": "Python 3"
    },
    "language_info": {
      "name": "python"
    }
  },
  "cells": [
    {
      "cell_type": "markdown",
      "metadata": {
        "id": "view-in-github",
        "colab_type": "text"
      },
      "source": [
        "<a href=\"https://colab.research.google.com/github/Eyersson/lista/blob/main/Listas.ipynb\" target=\"_parent\"><img src=\"https://colab.research.google.com/assets/colab-badge.svg\" alt=\"Open In Colab\"/></a>"
      ]
    },
    {
      "cell_type": "markdown",
      "source": [
        "# Listas\n",
        "- Hace referenia a una coleccion de datos que pueden ser numeros,cadenas o algun otro tipo.\n",
        "- Son colecciones ordenadas de datos,loque implica que importa el orden en el cual se encuantran los elementos.\n",
        "- El primer eemento ocupa la posicion 0,el segundo la 1,y asi sucesivamente.\n",
        "- Son mutabes:una vez creada la lista,esta puede modificarse,se le pueden agrega o quitar elementos.\n",
        "- En Python estan representadas por el tipo ***list*** y para definirlas se utiliza la siguiente sintaxis:\n",
        "```nombre_lista = [valor1, valor2,..., valorn]```\n",
        "- Los elementos pueden ser de cualquier tip,incluso puede haber tipos,incluso puede haber tipos diferentes en una misma lista.\n",
        "- Tambien es posible crear usando el constructor ```list ()```"
      ],
      "metadata": {
        "id": "4Wg6g6RkCi8u"
      }
    },
    {
      "cell_type": "code",
      "source": [
        "# ejemplo 1\n",
        "\n",
        "# ====================================================\n",
        "# usando [] y dando valores para inicializar las lista\n",
        "# ====================================================\n",
        "\n",
        "dias_laborables = [\"lunes\",\"martes\",\"miercoles\",\"jueves\",\"viernes\"]\n",
        "print(dias_laborables)\n",
        "\n",
        "colores_primarios = [\"rojo\",\"amarillo\",\"azul\"]\n",
        "print(colores_primarios)\n",
        "\n",
        "precios = [200.5,107.18,25,450,310.89,107.23,340]\n",
        "print(precios)\n",
        "print(type(precios))\n",
        "mezcolanza =[12,\"octubre\",1492, True]\n",
        "lista_vacia = []\n",
        "print(lista_vacia)\n",
        "\n",
        "# ====================================================\n",
        "# usando el contructor list()\n",
        "# ====================================================\n",
        "lista_vacia2 = list()\n",
        "lista_3 = list(range(0,30,2))\n",
        "print(lista_3)\n",
        "lista_4 = list(range(29,0,-2))\n",
        "print(lista_4)\n",
        "lista_5 = list(\"Eyersson Bercelly\")\n",
        "print(lista_5)\n",
        "frase = \"Eyersson Bercelly\"\n",
        "lista_6 = frase.split()\n",
        "print(lista_6)\n",
        "\n"
      ],
      "metadata": {
        "id": "EyPCSz-7NZK9"
      },
      "execution_count": 2,
      "outputs": []
    },
    {
      "cell_type": "markdown",
      "source": [
        "## Operaciones\n",
        "\n",
        "### Operador +\n",
        "- Concartenar o pegar los elementos de una lista al final de otra\n",
        "\n",
        "### Operador\n",
        "- Repetir la secuencia de elementosde la lista tantas veces como lo indique el valor que acompaña el operador"
      ],
      "metadata": {
        "id": "Ha6v4I53Qy09"
      }
    },
    {
      "cell_type": "code",
      "source": [],
      "metadata": {
        "id": "dBhNgZslST0m"
      },
      "execution_count": null,
      "outputs": []
    },
    {
      "cell_type": "code",
      "source": [
        "# ejemplo 1\n",
        "\n",
        "# ====================================================\n",
        "# usando [] y dando valores para inicializar las lista\n",
        "# ====================================================\n",
        "\n",
        "dias_laborables = [\"lunes\",\"martes\",\"miercoles\",\"jueves\",\"viernes\"]\n",
        "\n",
        "colores_primarios=[\"rojo\",\"amarillo\",\"azul\"]\n",
        "\n",
        "precios = [200.5,107.18,25,450,310.89,107.23,340]\n",
        "\n",
        "# Acceso a los elemetos de una lista\n",
        "\n",
        "print(dias_laborables[0])\n",
        "print(dias_laborables[-1])\n",
        "print(dias_laborables[-5])\n",
        "\n",
        "# Operador +\n",
        "\n",
        "fin_semana = [\"Sabado\", \"Domingo\"]\n",
        "print(fin_semana)\n",
        "\n",
        "# Operador *\n",
        "colores repetidos=colores_primarios * 3\n",
        "print(colores_repetidos)"
      ],
      "metadata": {
        "id": "v4fI2o9wShqF"
      },
      "execution_count": null,
      "outputs": []
    },
    {
      "cell_type": "markdown",
      "source": [
        "Funciones asociadas a las listas\n"
      ],
      "metadata": {
        "id": "UyPrE7dMU90O"
      }
    },
    {
      "cell_type": "code",
      "source": [
        "dias_laborales = [\"Lunes\",\"Martes\",\"Miercoles\",\"Jueves\",\"Viernes\"]\n",
        "\n",
        "colores_primarios = [\"Rojo\",\"Amarillo\",\"Azul\"]\n",
        "\n",
        "precios = [205.30, 107.18, 25, 450, 310.89, 170.23, 340]\n",
        "\n",
        "pares = list(range(0, 30, 2))\n",
        "\n",
        "impares = list(range(29, 0, -2))\n",
        "\n",
        "colores_repetidos = colores_primarios * 3\n",
        "\n",
        "#append (): agrega un elemento al final de la lista\n",
        "dias_laborales.append(\"Sabado\")\n",
        "print(dias_laborales)\n",
        "\n",
        "# len(): total de elementos de la lista\n",
        "print('Total de precios = ', len(precios))\n",
        "\n",
        "#count(): cuenta el numero de veces que parece un elemto en la lista\n",
        "print(f\"El luner aparece{dias_laborales.count('Lunes')} vez(veces)\")\n",
        "\n",
        "#insert(): agrega en la posicion indicada por el indice el nuevo valor, dezplazando los demas alementos hacia la derecha, si el indice es mayor al tamaño de la lista, lo agrega al final\n",
        "colores_primarios.insert(2, \"Verde\")\n",
        "print(colores_primarios)\n",
        "\n",
        "# remove(): quita el elemento de la lista, Si el elemento no esta lanza una exepcion\n",
        "dias_laborales.remove(\"Sabado\")\n",
        "print(dias_laborales)\n",
        "\n",
        "# sort(): ordena la lista de menor a mayor\n",
        "precios.sort()\n",
        "print(precios)\n",
        "precios.sort(reverse=True)\n",
        "print(precios)\n",
        "\n",
        "#reverse():\n",
        "\n",
        "#pop():\n",
        "\n",
        "#clear()\n",
        "\n",
        "#del"
      ],
      "metadata": {
        "id": "3bgT-OWJVKKr"
      },
      "execution_count": null,
      "outputs": []
    },
    {
      "cell_type": "markdown",
      "source": [
        "## Participacion o division de listas (slinging o rebanadas)\n",
        "- Se pueden generar sublistas a partir de una lista por medio de la participacion (division) o slincing.\n",
        "- Para obtener una sunlista se usa la sintaxis: ```sublista = lista\n",
        "[inicio:fin:n]```\n"
      ],
      "metadata": {
        "id": "oxy-gux7gmd8"
      }
    },
    {
      "cell_type": "code",
      "source": [
        "# se crea una lista de numeros enteros\n",
        "lista_1 =[1,2,3,4,5,6]\n",
        "\n",
        "# sublista con los elementos de las posiciones 0 a la 2 inclusive\n",
        "sublista_1 = lista_1[0:3]\n",
        "print(sublista_1)\n",
        "\n",
        "# sublista con los elementos 0 a 3 inclusive\n",
        "subista_2 = lista_1[:4]\n",
        "print(sublista_2)\n",
        "\n",
        "#sublista con los elementos 0 a la 4 inclusive\n",
        "sublista_3 = lista 1[2:5]\n",
        "print(sublista_3)\n",
        "\n",
        "# sublista con los elementos desde el inicio hasta el final, con saltos de a 2\n",
        "sublista_4 = lista_1[::2]\n",
        "print(sublista_4)\n"
      ],
      "metadata": {
        "id": "WYxWwWa0hvXV"
      },
      "execution_count": null,
      "outputs": []
    }
  ]
}